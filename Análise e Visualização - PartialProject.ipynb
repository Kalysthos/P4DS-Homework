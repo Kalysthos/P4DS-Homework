{
 "cells": [
  {
   "cell_type": "code",
   "execution_count": null,
   "metadata": {},
   "outputs": [],
   "source": [
    "#Importando Pacotes:\n",
    "import pandas as pd\n",
    "import numpy as np\n",
    "import seaborn as sb\n",
    "import matplotlib.pyplot as plt\n",
    "import geopandas as gpd\n",
    "import altair as alt\n",
    "import os as os\n",
    "#Configurando Altair:\n",
    "alt.renderers.enable('notebook')\n",
    "#Importando Módulos:\n",
    "from freedom import freedom\n",
    "from data import data\n",
    "from data import data2\n",
    "from analyze import analyze\n",
    "#Importando Mais Limpeza de dados:\n",
    "import clean_data as cd"
   ]
  },
  {
   "cell_type": "code",
   "execution_count": null,
   "metadata": {},
   "outputs": [],
   "source": [
    "#1. GERNADO PRIMEIRA TRAJETÓRIA DO PIB:\n",
    "list_year= [str(num) for num in range(1968,2017,3)]\n",
    "for year in  list_year:\n",
    "    #Dados do PIB per capita de 'year':\n",
    "    gdp = analyze(data,\"GDP per capita (current US$)\")\n",
    "    gdp2017 = pd.DataFrame(gdp[year])\n",
    "    #Mapa do Mundo:\n",
    "    world = gpd.read_file(gpd.datasets.get_path('naturalearth_lowres'))\n",
    "    #Eliminando a Antarctica:\n",
    "    world = world[(world.pop_est>0) & (world.name!=\"Antarctica\")]\n",
    "    #Mesclando as tabelas:\n",
    "    merged = world.set_index('name').join(gdp2017)\n",
    "    #Definindo dimensões e variáveis para o gráfico e legenda:\n",
    "    variable = year\n",
    "    vmin,vmax = 0,100\n",
    "    fig, ax = plt.subplots(1, figsize=(15, 8))\n",
    "    #Plotando o gráfico:\n",
    "    imagem=merged.plot(column=variable, cmap='Reds',linewidth=0.5, ax=ax, edgecolor='0.1') \n",
    "    #Colocando legenda:\n",
    "    ax.axis('off')\n",
    "    ax.set_title(\"GDP per capita (current US$)\" + year, fontdict={'fontsize': '25', 'fontweight' : '3'})\n",
    "    ax.annotate('Fonte: Banco Mundial',xy=(0.1, .08),  xycoords='figure fraction', horizontalalignment='left', verticalalignment='top', fontsize=12, color='#555555')\n",
    "    sm = plt.cm.ScalarMappable(cmap='Reds', norm=plt.Normalize(vmin=vmin, vmax=vmax))\n",
    "    sm._A = []\n",
    "    cbar = fig.colorbar(sm)\n",
    "    #Salvando cada imagem do diretório\n",
    "    caminho = os.path.join('Pastadogif', year+'_gdp.png')\n",
    "    grafico = imagem.get_figure()\n",
    "    grafico.savefig(caminho, dpi=300)"
   ]
  },
  {
   "cell_type": "code",
   "execution_count": null,
   "metadata": {},
   "outputs": [],
   "source": [
    "#2. ANALISE DO MERCADO DE CAPITAIS:\n",
    "\n",
    "#2.1 Criando DataFrame resumido tomando apenas anos com grande quantidade de dados \n",
    "market = analyze(data,\"Market capitalization of listed domestic companies (current US$)\")[[str(num) for num in range(1987,2018)]]\n",
    "#Criando variáveis para guardar resultados das concatenações no for e que transforme inteiros em strings para que possamos acessá-las:\n",
    "list_year= [str(num) for num in range(1987,2018)]\n",
    "top_market=pd.DataFrame()\n",
    "#Interação para obter apenas os quatro países com maior mercado de capitais em cada ano, mantendo a informação desse pais em todos os anos\n",
    "for i in list_year:\n",
    "    market = pd.DataFrame(market[i])\n",
    "    market = market[market[i]>0].sort_values(i)[-4:]\n",
    "    top_market = pd.concat([top_market, market], axis=1, sort=False)\n",
    "    market = analyze(data,\"Market capitalization of listed domestic companies (current US$)\")[[str(num) for num in range(1987,2018)]]\n",
    "#Eliminando variáveis Nan.\n",
    "top_market=top_market.fillna(0)\n",
    "top_market=market.T[top_market.index].T\n",
    "top_market"
   ]
  },
  {
   "cell_type": "code",
   "execution_count": null,
   "metadata": {},
   "outputs": [],
   "source": [
    "#2.2 Tornando tabela mais fácil de trabalhar no altair\n",
    "top_market_chart=pd.DataFrame()\n",
    "for i in top_market.index:\n",
    "        x=pd.DataFrame({'year':top_market.columns,'Country':[i]*len(top_market.columns),'Market Capitalization':top_market.T[i]})\n",
    "        top_market_chart=pd.concat([top_market_chart,x])\n",
    "top_market_chart=top_market_chart.fillna(0)\n",
    "top_market_chart"
   ]
  },
  {
   "cell_type": "code",
   "execution_count": null,
   "metadata": {},
   "outputs": [],
   "source": [
    "#2.3 Plotando gráfico\n",
    "chart=alt.Chart(top_market_chart).mark_area().encode(\n",
    "    x='year:T',\n",
    "    y='Market Capitalization:Q',\n",
    "    color='Country:N'\n",
    ")\n",
    "chart"
   ]
  },
  {
   "cell_type": "code",
   "execution_count": null,
   "metadata": {},
   "outputs": [],
   "source": [
    "#3 Crindo gráfico de comparação da taxa real de juros americana e pib mundial\n",
    "\n",
    "#3.1 Criando tabela do pib mundial que seja possível juntar com taxa real de juros americana de modo que seja fácil a utilização do altair\n",
    "gdp_world = cd.clean_tb(data2[0]).T['World']\n",
    "gdp_world = pd.DataFrame({'Year':gdp_world.index[3:],'Gdp_World':gdp_world[3:]})\n",
    "gdp_world=gdp_world[3:-1]\n",
    "gdp_world"
   ]
  },
  {
   "cell_type": "code",
   "execution_count": null,
   "metadata": {},
   "outputs": [],
   "source": [
    "#3.2 Criando tabela da taxa real de juros americana\n",
    "real_rate = analyze(data,\"c-United States\",['Real interest rate (%)'])\n",
    "real_rate.reset_index(level=0, inplace=True)\n",
    "real_rate.columns=['Year','Real_rate_us']\n",
    "real_rate.index=gdp_world.index\n",
    "real_rate"
   ]
  },
  {
   "cell_type": "code",
   "execution_count": null,
   "metadata": {},
   "outputs": [],
   "source": [
    "#3.3 Plotando Gráfico\n",
    "join = pd.DataFrame(gdp_world).join(real_rate['Real_rate_us'])\n",
    "alt.renderers.enable('notebook')\n",
    "brush = alt.selection(type='interval', encodings=['x'])\n",
    "\n",
    "real_rate_chart = alt.Chart(join).mark_line().encode(\n",
    "  x=alt.X('Year:N'),\n",
    "  y=alt.Y('Real_rate_us:Q')\n",
    ").properties(\n",
    "  title='Taxa Real de Juros Americana'\n",
    ").add_selection(\n",
    "    brush\n",
    ")\n",
    "\n",
    "\n",
    "gdp_world_chart = alt.Chart(join).mark_line().encode(\n",
    "  x=alt.X('Year:N', scale=alt.Scale(zero=False)),\n",
    "  y=alt.Y('Gdp_World:Q', scale=alt.Scale(zero=False)),\n",
    ").properties(\n",
    "  title='PIB Mundial percapita'\n",
    ").transform_filter(\n",
    "  brush\n",
    ")\n",
    "\n",
    "\n",
    "real_rate_chart | gdp_world_chart"
   ]
  }
 ],
 "metadata": {
  "kernelspec": {
   "display_name": "Python 3",
   "language": "python",
   "name": "python3"
  },
  "language_info": {
   "codemirror_mode": {
    "name": "ipython",
    "version": 3
   },
   "file_extension": ".py",
   "mimetype": "text/x-python",
   "name": "python",
   "nbconvert_exporter": "python",
   "pygments_lexer": "ipython3",
   "version": "3.6.5"
  }
 },
 "nbformat": 4,
 "nbformat_minor": 2
}
