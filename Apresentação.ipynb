{
 "cells": [
  {
   "cell_type": "markdown",
   "metadata": {},
   "source": [
    "#### Módulos externos que serão usados:"
   ]
  },
  {
   "cell_type": "code",
   "execution_count": null,
   "metadata": {},
   "outputs": [],
   "source": [
    "import pandas as pd\n",
    "import numpy as np\n",
    "from sklearn import linear_model, preprocessing\n",
    "import matplotlib.pyplot as plt"
   ]
  },
  {
   "cell_type": "markdown",
   "metadata": {},
   "source": [
    "#### Lista de DataFrames dos indices após o download:"
   ]
  },
  {
   "cell_type": "code",
   "execution_count": null,
   "metadata": {},
   "outputs": [],
   "source": [
    "from data import data\n",
    "from Freedom.freedom import freedom"
   ]
  },
  {
   "cell_type": "markdown",
   "metadata": {},
   "source": [
    "#### Modulos internos que  serão usadas:"
   ]
  },
  {
   "cell_type": "code",
   "execution_count": null,
   "metadata": {},
   "outputs": [],
   "source": [
    "from analyze import analyze\n",
    "from plots import scatter, trend, lmh, trend_years, comparison_filter"
   ]
  },
  {
   "cell_type": "markdown",
   "metadata": {},
   "source": [
    "#### DataFrame freedom"
   ]
  },
  {
   "cell_type": "code",
   "execution_count": null,
   "metadata": {
    "scrolled": true
   },
   "outputs": [],
   "source": [
    "freedom"
   ]
  },
  {
   "cell_type": "markdown",
   "metadata": {},
   "source": [
    "#### Apresentação do analyze para obter o DataFrame por ano, indice ou pais, respectivamente:"
   ]
  },
  {
   "cell_type": "code",
   "execution_count": null,
   "metadata": {},
   "outputs": [],
   "source": [
    "analyze(data, 2017)"
   ]
  },
  {
   "cell_type": "code",
   "execution_count": null,
   "metadata": {},
   "outputs": [],
   "source": [
    "analyze(data, \"GDP per capita (current US$)\")"
   ]
  },
  {
   "cell_type": "code",
   "execution_count": null,
   "metadata": {
    "scrolled": true
   },
   "outputs": [],
   "source": [
    "analyze(data, \"c-Brazil\")"
   ]
  },
  {
   "cell_type": "markdown",
   "metadata": {},
   "source": [
    "#### Gerarndo o gráfico de dispersão e a linha de tendencia do log dos indices em determinado ano:"
   ]
  },
  {
   "cell_type": "code",
   "execution_count": null,
   "metadata": {},
   "outputs": [],
   "source": [
    "scatter(data, 2017, ['GDP per capita (current US$)', 'Population, total'])"
   ]
  },
  {
   "cell_type": "markdown",
   "metadata": {},
   "source": [
    "#### Gráfico de barras de um indice em determinado ano dos paises com x menores, medianos e maiores valores:"
   ]
  },
  {
   "cell_type": "code",
   "execution_count": null,
   "metadata": {
    "scrolled": false
   },
   "outputs": [],
   "source": [
    "lmh(data, 2017, 'GDP per capita (current US$)', 3)"
   ]
  },
  {
   "cell_type": "markdown",
   "metadata": {},
   "source": [
    "#### Gerarndo os gráficos de tendencia dos paises dados em determinado indice e período de tempo:"
   ]
  },
  {
   "cell_type": "code",
   "execution_count": null,
   "metadata": {},
   "outputs": [],
   "source": [
    "trend(data, [\"World\", \"Brazil\", \"Mexico\"], 'GDP per capita (current US$)', [1990, 2017])"
   ]
  },
  {
   "cell_type": "markdown",
   "metadata": {},
   "source": [
    "### Gráficos de tendencia com valores normalizados de um país e período de tempo para um indice com linha de tendencia ou múltiplos indices:"
   ]
  },
  {
   "cell_type": "code",
   "execution_count": null,
   "metadata": {},
   "outputs": [],
   "source": [
    "trend_years(data, \"World\", 'GDP per capita (current US$)', [2000, 2017])\n",
    "trend_years(data, \"World\", ['GDP per capita (current US$)', 'CO2 emissions (metric tons per capita)'], [2000, 2017]) "
   ]
  },
  {
   "cell_type": "markdown",
   "metadata": {},
   "source": [
    "#### Encontrando os indices com fortes relações em critérios definidos:  "
   ]
  },
  {
   "cell_type": "code",
   "execution_count": null,
   "metadata": {
    "scrolled": false
   },
   "outputs": [],
   "source": [
    "comparison_filter(data, year=2014, years=[2000,2014], country=\"World\", index='GDP per capita (current US$)', r2=0.45, coef=0.05, num=20)"
   ]
  },
  {
   "cell_type": "markdown",
   "metadata": {},
   "source": [
    "#### Comparando liberdade ecomica com PIB per capita:"
   ]
  },
  {
   "cell_type": "code",
   "execution_count": null,
   "metadata": {},
   "outputs": [],
   "source": [
    "df1 = pd.DataFrame(freedom.median(1).drop([\"Korea, Rep.\", \"Cuba\", \"Venezuela, RB\"], 0), columns=[\"freedom\"]).dropna().sort_values(\"freedom\")\n",
    "df2 = pd.DataFrame(analyze(data,2017)[\"GDP per capita (current US$)\"]).dropna()\n",
    "df = np.log(np.array(df1.join(df2).dropna()))\n",
    "y = df[:,0].reshape(-1, 1)\n",
    "x = df[:,1].reshape(-1, 1)\n",
    "model = linear_model.LinearRegression().fit(x, y)\n",
    "plt.plot(x, model.predict(x), color='red', linewidth=2.)\n",
    "plt.scatter(y=y, x=x, color='blue', s=50, alpha=.5)\n",
    "plt.legend([\"R**2 = {:0.4}, coef = {:0.4}\".format(model.score(x, y), model.coef_[0][0])])\n",
    "plt.title('Tendency line log-log')\n",
    "plt.xlabel(\"Freedom\")\n",
    "plt.ylabel(\"GDP\")\n",
    "plt.show()\n",
    "x = 4\n",
    "df1 = pd.DataFrame(preprocessing.MinMaxScaler().fit_transform(np.array(df1.sort_values(\"freedom\").values, dtype=\"float64\").reshape(-1, 1)), index=df1.index, columns=[\"Freedom\"])\n",
    "df2 = pd.DataFrame(preprocessing.MinMaxScaler().fit_transform(np.array(df2.values, dtype=\"float64\").reshape(-1, 1)), index=df2.index, columns=[\"GDP\"])\n",
    "df, amount = df1.join(df2).dropna(), int(len(df)/2)-int(x/2)\n",
    "df = df.iloc[list(range(0,x))+list(range(amount, amount+x))+list(range(-x,0))].plot(kind=\"bar\")\n",
    "plt.title('Bar plot')\n",
    "plt.show()"
   ]
  },
  {
   "cell_type": "code",
   "execution_count": null,
   "metadata": {},
   "outputs": [],
   "source": []
  }
 ],
 "metadata": {
  "kernelspec": {
   "display_name": "Python 3",
   "language": "python",
   "name": "python3"
  },
  "language_info": {
   "codemirror_mode": {
    "name": "ipython",
    "version": 3
   },
   "file_extension": ".py",
   "mimetype": "text/x-python",
   "name": "python",
   "nbconvert_exporter": "python",
   "pygments_lexer": "ipython3",
   "version": "3.5.2"
  }
 },
 "nbformat": 4,
 "nbformat_minor": 2
}
