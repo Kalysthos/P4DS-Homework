{
 "cells": [
  {
   "cell_type": "markdown",
   "metadata": {},
   "source": [
    "   ## Relação Entre População Urbana,  Energia Elétrica e PIB Per Capita\n",
    "\n"
   ]
  },
  {
   "cell_type": "code",
   "execution_count": 1,
   "metadata": {},
   "outputs": [],
   "source": [
    "#IMPORTANTO PACOTES:\n",
    "import pandas as pd\n",
    "import numpy as np\n",
    "import matplotlib.pyplot as plt\n",
    "import plotly.plotly as py\n",
    "from plotly.grid_objs import Grid, Column\n",
    "from plotly.tools import FigureFactory as FF \n",
    "import pandas as pd\n",
    "import time\n",
    "import plotly\n",
    "plotly.tools.set_credentials_file(username='Felvc027', api_key='j63ixa5dFTZ9Crf97maA')"
   ]
  },
  {
   "cell_type": "markdown",
   "metadata": {},
   "source": [
    " Com base na forte correlação entre população urbana, energia elétrica e PIB Per Capita, vamos iniciar criando uma tabela do PIB PerCapita de modo a tornar mais fácil uma plotagem no Plotly, para isso faremos uso do módulo Simple_Table:"
   ]
  },
  {
   "cell_type": "code",
   "execution_count": null,
   "metadata": {
    "scrolled": true
   },
   "outputs": [
    {
     "name": "stdout",
     "output_type": "stream",
     "text": [
      "       Country  GDP per capita (current US$)  Year\n",
      "1975   Algeria                    931.105517  1975\n",
      "1976   Algeria                   1031.303135  1976\n",
      "1977   Algeria                   1185.510635  1977\n",
      "1978   Algeria                   1447.618021  1978\n",
      "1979   Algeria                   1771.965549  1979\n",
      "1980   Algeria                   2189.776680  1980\n",
      "1981   Algeria                   2223.697344  1981\n",
      "1982   Algeria                   2197.110500  1982\n",
      "1983   Algeria                   2298.883805  1983\n",
      "1984   Algeria                   2452.664632  1984\n",
      "1985   Algeria                   2567.495905  1985\n",
      "1986   Algeria                   2740.654724  1986\n",
      "1987   Algeria                   2790.473919  1987\n",
      "1988   Algeria                   2402.825627  1988\n",
      "1989   Algeria                   2202.558090  1989\n",
      "1990   Algeria                   2394.420380  1990\n",
      "1991   Algeria                   1721.578696  1991\n",
      "1992   Algeria                   1766.054678  1992\n",
      "1993   Algeria                   1797.523561  1993\n",
      "1994   Algeria                   1499.971505  1994\n",
      "1995   Algeria                   1444.908036  1995\n",
      "1996   Algeria                   1596.029867  1996\n",
      "1997   Algeria                   1612.009303  1997\n",
      "1998   Algeria                   1588.481449  1998\n",
      "1999   Algeria                   1581.004564  1999\n",
      "2000   Algeria                   1757.017797  2000\n",
      "2001   Algeria                   1732.857979  2001\n",
      "2002   Algeria                   1774.033673  2002\n",
      "2003   Algeria                   2094.335506  2003\n",
      "2004   Algeria                   2598.908023  2004\n",
      "...        ...                           ...   ...\n",
      "1985  Zimbabwe                    651.039658  1985\n",
      "1986  Zimbabwe                    692.667302  1986\n",
      "1987  Zimbabwe                    725.385754  1987\n",
      "1988  Zimbabwe                    813.675382  1988\n",
      "1989  Zimbabwe                    836.787602  1989\n",
      "1990  Zimbabwe                    862.586588  1990\n",
      "1991  Zimbabwe                    827.486940  1991\n",
      "1992  Zimbabwe                    631.990604  1992\n",
      "1993  Zimbabwe                    601.866877  1993\n",
      "1994  Zimbabwe                    619.835138  1994\n",
      "1995  Zimbabwe                    628.184925  1995\n",
      "1996  Zimbabwe                    742.572673  1996\n",
      "1997  Zimbabwe                    728.400836  1997\n",
      "1998  Zimbabwe                    538.284856  1998\n",
      "1999  Zimbabwe                    568.443953  1999\n",
      "2000  Zimbabwe                    547.358878  2000\n",
      "2001  Zimbabwe                    548.058731  2001\n",
      "2002  Zimbabwe                    507.348003  2002\n",
      "2003  Zimbabwe                    453.351155  2003\n",
      "2004  Zimbabwe                    454.360665  2004\n",
      "2005  Zimbabwe                    444.760508  2005\n",
      "2006  Zimbabwe                    414.796232  2006\n",
      "2007  Zimbabwe                    396.998217  2007\n",
      "2008  Zimbabwe                    325.678570  2008\n",
      "2009  Zimbabwe                    624.272242  2009\n",
      "2010  Zimbabwe                    719.979516  2010\n",
      "2011  Zimbabwe                    840.949877  2011\n",
      "2012  Zimbabwe                    968.163875  2012\n",
      "2013  Zimbabwe                   1026.388292  2013\n",
      "2014  Zimbabwe                   1031.104614  2014\n",
      "\n",
      "[4800 rows x 3 columns]\n",
      "       Country  Electric power consumption (kWh per capita)  Year\n",
      "1975   Albania                                   739.345093  1975\n",
      "1976   Albania                                   908.674547  1976\n",
      "1977   Albania                                  1067.814156  1977\n",
      "1978   Albania                                  1098.483166  1978\n",
      "1979   Albania                                  1065.767398  1979\n",
      "1980   Albania                                  1142.965355  1980\n",
      "1981   Albania                                  1123.968106  1981\n",
      "1982   Albania                                  1096.873229  1982\n",
      "1983   Albania                                  1070.690164  1983\n",
      "1984   Albania                                  1018.100288  1984\n",
      "1985   Albania                                   796.353974  1985\n",
      "1986   Albania                                  1420.614795  1986\n",
      "1987   Albania                                  1161.951677  1987\n",
      "1988   Albania                                  1005.939530  1988\n",
      "1989   Albania                                  1021.393500  1989\n",
      "1990   Albania                                   552.252185  1990\n",
      "1991   Albania                                   418.453589  1991\n",
      "1992   Albania                                   453.644074  1992\n",
      "1993   Albania                                   536.363825  1993\n",
      "1994   Albania                                   596.407959  1994\n",
      "1995   Albania                                   663.783995  1995\n",
      "1996   Albania                                   904.346640  1996\n",
      "1997   Albania                                   694.664803  1997\n",
      "1998   Albania                                   734.849914  1998\n",
      "1999   Albania                                  1414.703784  1999\n",
      "2000   Albania                                  1449.647413  2000\n",
      "2001   Albania                                  1351.230796  2001\n",
      "2002   Albania                                  1578.165919  2002\n",
      "2003   Albania                                  1469.264539  2003\n",
      "2004   Albania                                  1797.525487  2004\n",
      "...        ...                                          ...   ...\n",
      "1985  Zimbabwe                                   959.479987  1985\n",
      "1986  Zimbabwe                                   893.361950  1986\n",
      "1987  Zimbabwe                                   900.973316  1987\n",
      "1988  Zimbabwe                                   880.022307  1988\n",
      "1989  Zimbabwe                                   906.131154  1989\n",
      "1990  Zimbabwe                                   886.565827  1990\n",
      "1991  Zimbabwe                                   875.606851  1991\n",
      "1992  Zimbabwe                                   803.248716  1992\n",
      "1993  Zimbabwe                                   749.879238  1993\n",
      "1994  Zimbabwe                                   787.716197  1994\n",
      "1995  Zimbabwe                                   829.568284  1995\n",
      "1996  Zimbabwe                                   869.054724  1996\n",
      "1997  Zimbabwe                                   897.011331  1997\n",
      "1998  Zimbabwe                                   865.531369  1998\n",
      "1999  Zimbabwe                                   908.281851  1999\n",
      "2000  Zimbabwe                                   872.834309  2000\n",
      "2001  Zimbabwe                                   840.842735  2001\n",
      "2002  Zimbabwe                                   839.964721  2002\n",
      "2003  Zimbabwe                                   834.263569  2003\n",
      "2004  Zimbabwe                                   805.008112  2004\n",
      "2005  Zimbabwe                                   832.378158  2005\n",
      "2006  Zimbabwe                                   807.587959  2006\n",
      "2007  Zimbabwe                                   698.954509  2007\n",
      "2008  Zimbabwe                                   573.294817  2008\n",
      "2009  Zimbabwe                                   531.041412  2009\n",
      "2010  Zimbabwe                                   546.842727  2010\n",
      "2011  Zimbabwe                                   570.250932  2011\n",
      "2012  Zimbabwe                                   542.729552  2012\n",
      "2013  Zimbabwe                                   557.573925  2013\n",
      "2014  Zimbabwe                                   536.995492  2014\n",
      "\n",
      "[4480 rows x 3 columns]\n"
     ]
    }
   ],
   "source": [
    "from Simple_Table import simple_table\n",
    "\n",
    "gdp_table=simple_table('GDP per capita (current US$)')\n",
    "print(gdp_table)\n",
    "Eletric_consuptiom_table=simple_table('Electric power consumption (kWh per capita)')\n",
    "print(Eletric_consuptiom_table)\n",
    "urban_population_table=simple_table('Urban population (% of total)')\n",
    "print(urban_population_table)"
   ]
  },
  {
   "cell_type": "markdown",
   "metadata": {},
   "source": [
    "Vamos fazer um único Data Frame com os três indicadores:"
   ]
  },
  {
   "cell_type": "code",
   "execution_count": null,
   "metadata": {
    "scrolled": true
   },
   "outputs": [],
   "source": [
    "merged_table=gdp_table.merge(Eletric_consuptiom_table)\n",
    "merged_table=merged_table.merge(urban_population_table)\n",
    "#Elimando WORLD que não é um país mas esta no banco de dados e não utilizaremos nessa análise:\n",
    "merged_table = merged_table[merged_table['Country']!='World']\n",
    "#verificando o que foi obtido:\n",
    "merged_table"
   ]
  },
  {
   "cell_type": "markdown",
   "metadata": {},
   "source": [
    " Para refinar nossa análise vamos adicionar uma coluna atribuindo cada país ao seu continente. Utilizaremos o módulo Continents que faz essa relação. "
   ]
  },
  {
   "cell_type": "code",
   "execution_count": null,
   "metadata": {},
   "outputs": [],
   "source": [
    "from Continents import Continents"
   ]
  },
  {
   "cell_type": "code",
   "execution_count": null,
   "metadata": {
    "scrolled": true
   },
   "outputs": [],
   "source": [
    "merged_table['Continents']=merged_table['Country'].apply(lambda x : Continents[x])\n",
    "merged_table"
   ]
  },
  {
   "cell_type": "markdown",
   "metadata": {},
   "source": [
    "Agora façamos uma plotagem interativa no Ploty:"
   ]
  },
  {
   "cell_type": "code",
   "execution_count": null,
   "metadata": {},
   "outputs": [],
   "source": [
    "from animated_chart import animated_chart\n",
    "animated_chart(merged_table)"
   ]
  },
  {
   "cell_type": "markdown",
   "metadata": {},
   "source": [
    "Análise: O aumento da população urbana e a mudança do estilo de vida das pessoas aumenta a demana por energia. A maior demana por energia atrai investimento estrangeiro direto, aumentando diretamente o PIB e também aumenta a quantidade de empregos que implica enfim no aumento do consumo privado, aumentando suficientemente o PIB para que mesmo com um possível aumento da população ocorra o aumento do PIB per capita. Contudo isso ocorre no longo prazo. No curto prazo como já observado no gráfico ha variação é pequena é a explicação é que além do investimento direto precisar de tempo para gerar retorno, aumento do uso de energia elétrica pode ser causada por exemplo pelo aumento do uso de ar condicionado que não está diretamente ligada a produção daquele país. "
   ]
  },
  {
   "cell_type": "code",
   "execution_count": null,
   "metadata": {},
   "outputs": [],
   "source": []
  }
 ],
 "metadata": {
  "kernelspec": {
   "display_name": "Python 3",
   "language": "python",
   "name": "python3"
  },
  "language_info": {
   "codemirror_mode": {
    "name": "ipython",
    "version": 3
   },
   "file_extension": ".py",
   "mimetype": "text/x-python",
   "name": "python",
   "nbconvert_exporter": "python",
   "pygments_lexer": "ipython3",
   "version": "3.5.2"
  }
 },
 "nbformat": 4,
 "nbformat_minor": 2
}
