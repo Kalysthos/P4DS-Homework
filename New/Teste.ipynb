{
 "cells": [
  {
   "cell_type": "markdown",
   "metadata": {},
   "source": [
    "data = data.loc[open('nameindex.txt').read().split(\"\\n\")]\n",
    "data.to_csv('WBData.csv')"
   ]
  },
  {
   "cell_type": "code",
   "execution_count": null,
   "metadata": {},
   "outputs": [],
   "source": [
    "import pandas as pd \n",
    "from scatter import scatter\n",
    "import numpy as np\n",
    "import matplotlib.pyplot as plt\n",
    "from plots import trend, lmh, trend_years\n",
    "data = pd.read_csv(\"WBData.csv\").set_index([\"Series Name\", \"Country Name\"])"
   ]
  },
  {
   "cell_type": "code",
   "execution_count": null,
   "metadata": {
    "scrolled": true
   },
   "outputs": [],
   "source": [
    "scatter(data, [2017,2017], ['GDP per capita (current US$)', 'Economic freedom'] , True)\n",
    "scatter(data, [2017,2017], ['GDP per capita (current US$)', 'Economic freedom'])"
   ]
  },
  {
   "cell_type": "code",
   "execution_count": null,
   "metadata": {},
   "outputs": [],
   "source": [
    "trend(data, 'GDP per capita (current US$)', ['Afghanistan', 'Brazil'], [2000, 2017])"
   ]
  },
  {
   "cell_type": "code",
   "execution_count": null,
   "metadata": {},
   "outputs": [],
   "source": [
    "lmh(data,  'Economic freedom', 2017, 3)"
   ]
  },
  {
   "cell_type": "code",
   "execution_count": null,
   "metadata": {
    "scrolled": false
   },
   "outputs": [],
   "source": [
    "lmh(data,  ['Economic freedom', 'GDP per capita (current US$)'], 2017, 3)"
   ]
  },
  {
   "cell_type": "code",
   "execution_count": null,
   "metadata": {
    "scrolled": true
   },
   "outputs": [],
   "source": [
    "trend_years(data, ['Economic freedom', 'GDP per capita (current US$)'], 'World', [2000, 2017])"
   ]
  },
  {
   "cell_type": "code",
   "execution_count": null,
   "metadata": {},
   "outputs": [],
   "source": [
    "trend_years(data, 'Economic freedom', 'World', [2000, 2017], True)"
   ]
  }
 ],
 "metadata": {
  "kernelspec": {
   "display_name": "Python 3",
   "language": "python",
   "name": "python3"
  },
  "language_info": {
   "codemirror_mode": {
    "name": "ipython",
    "version": 3
   },
   "file_extension": ".py",
   "mimetype": "text/x-python",
   "name": "python",
   "nbconvert_exporter": "python",
   "pygments_lexer": "ipython3",
   "version": "3.5.2"
  }
 },
 "nbformat": 4,
 "nbformat_minor": 2
}
