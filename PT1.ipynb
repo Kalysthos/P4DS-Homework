{
 "cells": [
  {
   "cell_type": "markdown",
   "metadata": {},
   "source": [
    "#### Ocutar linhas de código\n",
    "\n",
    "import ipywidgets as widgets\n",
    "from IPython.display import display, HTML\n",
    "javascript_functions = {False: \"hide()\", True: \"show()\"}\n",
    "button_descriptions  = {False: \"Show code\", True: \"Hide code\"}\n",
    "def toggle_code(state):\n",
    "    output_string = \"<script>$(\\\"div.input\\\").{}</script>\"\n",
    "    output_args   = (javascript_functions[state],)\n",
    "    output        = output_string.format(*output_args)\n",
    "    display(HTML(output))\n",
    "def button_action(value):\n",
    "    state = value.new\n",
    "    toggle_code(state)\n",
    "    value.owner.description = button_descriptions[state]\n",
    "toggle_code(False)"
   ]
  },
  {
   "cell_type": "code",
   "execution_count": null,
   "metadata": {},
   "outputs": [],
   "source": [
    "import codigos_apresentacao"
   ]
  },
  {
   "cell_type": "markdown",
   "metadata": {},
   "source": [
    "### Tentando encontrar um modelo que represente de forma eficente nivel de correlação entre dois índices"
   ]
  },
  {
   "cell_type": "markdown",
   "metadata": {},
   "source": [
    "### Como medir nivel de correlação? \n",
    "\n",
    "Niveis de correlação podem ser obtidos apartir de curvas, como curva linear, curva de potência, curva polinomial  e curva exponencial, e todas essas curvas podem ser aproximadas com regressões lineares com alterações nas escalas dos dados: "
   ]
  },
  {
   "cell_type": "markdown",
   "metadata": {},
   "source": [
    "#### 1. Curva linear  ->   Y = a*X + b"
   ]
  },
  {
   "cell_type": "code",
   "execution_count": null,
   "metadata": {},
   "outputs": [],
   "source": [
    "codigos_apresentacao.func1()"
   ]
  },
  {
   "cell_type": "markdown",
   "metadata": {},
   "source": [
    "#### 2.  Curva exponencial ->  Y = a*log(X) + b"
   ]
  },
  {
   "cell_type": "code",
   "execution_count": null,
   "metadata": {},
   "outputs": [],
   "source": [
    "codigos_apresentacao.func2()"
   ]
  },
  {
   "cell_type": "markdown",
   "metadata": {},
   "source": [
    "#### 3. Curva de potência e curva polinomial -> log(Y) = a*log(X) + b "
   ]
  },
  {
   "cell_type": "code",
   "execution_count": null,
   "metadata": {},
   "outputs": [],
   "source": [
    "codigos_apresentacao.func3()"
   ]
  },
  {
   "cell_type": "markdown",
   "metadata": {},
   "source": [
    "#### Agora como descobrir a curva que melhor se encaixa? Testando!\n",
    "\n",
    "A partir das alterações nas escalas: x - y, x - log(x), y - log(x) e log(x) - log(y), e aplicando a regressão linear, é possível descobrir qual curva obteve o melhor resultado e podendo assim avaliar o nível de correlação.\n",
    "\n",
    "Existe um probleminha: dados negativos ou nulos, com esses tipos de dados não é possível aplicar o log, então nesses casos é aplicado a raiz cubica (y**(1/3)) que possui um efeito similar ao log, mas com resultados um pouco mais fracos.\n",
    "\n",
    "#### Como avaliar um resultado? \n",
    "\n",
    "Coeficiente de determinação (R2) da regressão linear, em resumo esse modelo avalia a distância total de cada ponto a reta. O coeficiente varia de 0 a 1, sendo 1 o ajuste perfeito a curva."
   ]
  },
  {
   "cell_type": "code",
   "execution_count": null,
   "metadata": {},
   "outputs": [],
   "source": [
    "codigos_apresentacao.func4()"
   ]
  },
  {
   "cell_type": "markdown",
   "metadata": {},
   "source": [
    "#### Outileres\n",
    "\n",
    "Alguns pontos que podem ser casos isolados que acabam fud... atrapalhando um pouco a curva, por estarem muito distantes da reta que melhor se ajustaria aos outros pontos. Esses pontos são removidos de forma eficiente da regressão para melhor resultados. Futuramente será mostrado um caso real de outliers"
   ]
  },
  {
   "cell_type": "code",
   "execution_count": null,
   "metadata": {},
   "outputs": [],
   "source": [
    "codigos_apresentacao.func5()"
   ]
  },
  {
   "cell_type": "markdown",
   "metadata": {},
   "source": [
    "#### Conclusão:\n",
    "Agora podemos medir o nivel de correlação entre dois indices a partir do coeficiente de determinação da curva que melhor se encaixa, avaliando assim se existe algum tipo de \"padrão\"."
   ]
  },
  {
   "cell_type": "code",
   "execution_count": 5,
   "metadata": {},
   "outputs": [],
   "source": [
    "from Simple_Table import simple_table\n",
    "from Continents import Continents\n",
    "from animated_chart import animated_chart"
   ]
  },
  {
   "cell_type": "code",
   "execution_count": 8,
   "metadata": {
    "scrolled": false
   },
   "outputs": [
    {
     "data": {
      "text/html": [
       "<iframe id=\"igraph\" scrolling=\"no\" style=\"border:none;\" seamless=\"seamless\" src=\"https://plot.ly/~AngeloLJr/153.embed\" height=\"525px\" width=\"100%\"></iframe>"
      ],
      "text/plain": [
       "<plotly.tools.PlotlyDisplay object>"
      ]
     },
     "execution_count": 8,
     "metadata": {},
     "output_type": "execute_result"
    }
   ],
   "source": [
    "gdp_table=simple_table('GDP per capita (current US$)')\n",
    "Eletric_consuptiom_table=simple_table('Electric power consumption (kWh per capita)')\n",
    "urban_population_table=simple_table('Urban population (% of total)')\n",
    "\n",
    "merged_table=gdp_table.merge(Eletric_consuptiom_table)\n",
    "merged_table=merged_table.merge(urban_population_table)\n",
    "#Elimando WORLD que não é um país mas esta no banco de dados e não utilizaremos nessa análise:\n",
    "merged_table = merged_table[merged_table['Country']!='World']\n",
    "\n",
    "merged_table['Continents']=merged_table['Country'].apply(lambda x : Continents[x])\n",
    "\n",
    "animated_chart(merged_table)"
   ]
  },
  {
   "cell_type": "code",
   "execution_count": null,
   "metadata": {},
   "outputs": [],
   "source": []
  }
 ],
 "metadata": {
  "kernelspec": {
   "display_name": "Python 3",
   "language": "python",
   "name": "python3"
  },
  "language_info": {
   "codemirror_mode": {
    "name": "ipython",
    "version": 3
   },
   "file_extension": ".py",
   "mimetype": "text/x-python",
   "name": "python",
   "nbconvert_exporter": "python",
   "pygments_lexer": "ipython3",
   "version": "3.5.2"
  }
 },
 "nbformat": 4,
 "nbformat_minor": 2
}
