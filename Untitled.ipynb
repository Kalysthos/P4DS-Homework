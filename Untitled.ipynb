{
 "cells": [
  {
   "cell_type": "code",
   "execution_count": 1,
   "metadata": {},
   "outputs": [],
   "source": [
    "import pandas as pd\n",
    "import numpy as np\n",
    "from sklearn import linear_model, preprocessing\n",
    "import matplotlib.pyplot as plt\n",
    "from collections import defaultdict\n",
    "from data import data"
   ]
  },
  {
   "cell_type": "code",
   "execution_count": 2,
   "metadata": {},
   "outputs": [],
   "source": [
    "from analyze import analyze\n",
    "from plots import scatter, trend, lmh, trend_years, comparison_filter"
   ]
  },
  {
   "cell_type": "code",
   "execution_count": 3,
   "metadata": {},
   "outputs": [],
   "source": [
    "ages = analyze(data, \"c-World\").index\n",
    "years = []\n",
    "for i in ages:\n",
    "    for k in ages:\n",
    "        years.append((int(i),int(k)))\n",
    "indices = analyze(data, 2017).drop(\"GDP per capita (current US$)\", 1).columns\n",
    "saida = defaultdict(list)"
   ]
  },
  {
   "cell_type": "code",
   "execution_count": null,
   "metadata": {},
   "outputs": [],
   "source": [
    "for indice in indices:\n",
    "    for i,k in years:\n",
    "        try:\n",
    "            ind = scatter(data,[i,k],[\"GDP per capita (current US$)\", indice], False)\n",
    "            if ind[0] >= 0.5 and ind[2] >= 50:\n",
    "                saida[indice].append(((i,k), (ind[0], ind[2])))\n",
    "        except:\n",
    "            pass"
   ]
  }
 ],
 "metadata": {
  "kernelspec": {
   "display_name": "Python 3",
   "language": "python",
   "name": "python3"
  },
  "language_info": {
   "codemirror_mode": {
    "name": "ipython",
    "version": 3
   },
   "file_extension": ".py",
   "mimetype": "text/x-python",
   "name": "python",
   "nbconvert_exporter": "python",
   "pygments_lexer": "ipython3",
   "version": "3.5.2"
  }
 },
 "nbformat": 4,
 "nbformat_minor": 2
}
