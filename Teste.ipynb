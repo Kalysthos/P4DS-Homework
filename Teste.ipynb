{
 "cells": [
  {
   "cell_type": "code",
   "execution_count": 1,
   "metadata": {
    "scrolled": true
   },
   "outputs": [],
   "source": [
    "from freedom import freedom\n",
    "from data import data\n",
    "from analyze import analyze\n",
    "import matplotlib.pyplot as plt\n",
    "import seaborn as sb\n",
    "import plotly as ply\n",
    "import geopandas as geo\n",
    "import pandas as pd\n",
    "import numpy as np"
   ]
  },
  {
   "cell_type": "code",
   "execution_count": null,
   "metadata": {},
   "outputs": [],
   "source": [
    "analyze(data, 2017)"
   ]
  },
  {
   "cell_type": "code",
   "execution_count": null,
   "metadata": {},
   "outputs": [],
   "source": [
    "analyze(data, \"GDP per capita (current US$)\")"
   ]
  },
  {
   "cell_type": "code",
   "execution_count": null,
   "metadata": {},
   "outputs": [],
   "source": [
    "df2 = freedom[[2017]].drop('Korea, Rep.', 0)"
   ]
  },
  {
   "cell_type": "code",
   "execution_count": null,
   "metadata": {},
   "outputs": [],
   "source": [
    "df1 = np.log10(df2.join(analyze(data, 2017,[\"GDP per capita (current US$)\"])))\n",
    "df1.columns = ['x', 'y']\n",
    "df1.plot('x', 'y', kind='scatter')\n",
    "plt.show()"
   ]
  },
  {
   "cell_type": "code",
   "execution_count": null,
   "metadata": {},
   "outputs": [],
   "source": [
    "def mmm(x=3,age=2017, ind=\"GDP per capita (current US$)\"):\n",
    "    df1 = analyze(data, age, [ind]).sort_values([ind])\n",
    "    lmd1 = int(len(df1)/2)-int(x/2)\n",
    "    df1.iloc[list(range(0,x))+list(range(lmd1, lmd1+x))+list(range(-x,0))].plot(kind=\"bar\")\n",
    "    plt.show()"
   ]
  },
  {
   "cell_type": "code",
   "execution_count": null,
   "metadata": {},
   "outputs": [],
   "source": [
    "mmm()"
   ]
  },
  {
   "cell_type": "code",
   "execution_count": null,
   "metadata": {},
   "outputs": [],
   "source": [
    "pd.DataFrame?"
   ]
  },
  {
   "cell_type": "code",
   "execution_count": null,
   "metadata": {},
   "outputs": [],
   "source": [
    "x = 2\n",
    "df1 = freedom[[2017]].drop('Korea, Rep.', 0).dropna().sort_values([2017])\n",
    "lmd1 = int(len(df1)/2)\n",
    "df1.iloc[list(range(0,x))+list(range(lmd1-int(x/2), lmd1+1+int(x/2)))+list(range(-x,0))].plot(kind=\"bar\")\n",
    "plt.show()"
   ]
  },
  {
   "cell_type": "code",
   "execution_count": null,
   "metadata": {},
   "outputs": [],
   "source": [
    "df1 = analyze(data, 2017, [\"GDP per capita (current US$)\"])\n",
    "df1.groupby([\"GDP per capita (current US$)\", pd.cut(df1.distances, 2)]).value.mean()\n",
    "\n"
   ]
  },
  {
   "cell_type": "code",
   "execution_count": null,
   "metadata": {},
   "outputs": [],
   "source": [
    "def analyze(data, ageorcountryorind, indice=False, rm=True, log=False, disp=False):\n",
    "    import pandas as pd\n",
    "    import numpy as np\n",
    "    import matplotlib.pyplot as plt\n",
    "    from sklearn import linear_model\n",
    "    countries = [i.replace(\"\\n\", \"\") for i in open(\"countries.txt\")]\n",
    "    \n",
    "    if type(ageorcountryorind) == int:\n",
    "        country = pd.DataFrame(data[0][str(ageorcountryorind)], columns=[data[0]['Indicator Name'][0]])\n",
    "        for k,i in enumerate(data[1:]):\n",
    "            country = country.join(pd.Series(i[str(ageorcountryorind)], name=data[k+1][\"Indicator Name\"][0]), how=\"outer\")\n",
    "        df = country.reindex(countries) if rm else country\n",
    "    \n",
    "    elif ageorcountryorind[0:2] == \"c-\":\n",
    "        ages = pd.DataFrame(data[0].T[ageorcountryorind[2:]][4:], columns=[data[0][\"Indicator Name\"][0]])\n",
    "        for k,i in enumerate(data[1:]):\n",
    "            ages = ages.join(pd.Series(i.T[ageorcountryorind[2:]][4:], name=data[k+1][\"Indicator Name\"][0]), how=\"outer\")\n",
    "        df = ages\n",
    "        \n",
    "    else:\n",
    "        for i in data:\n",
    "            if i['Indicator Name'][0] == ageorcountryorind:\n",
    "                saida = i.drop(\"Indicator Name\", axis=1)\n",
    "                break\n",
    "        df = saida.reindex(countries) if rm else saida\n",
    "\n",
    "    if indice==False:\n",
    "        return df.dropna(how='all')\n",
    "    elif log:\n",
    "        df = np.log(df[indice].dropna()) \n",
    "        if disp:\n",
    "            y = np.array(df[indice[0]]).reshape(-1, 1)\n",
    "            x = np.array(df[indice[1]]).reshape(-1, 1)\n",
    "            model = linear_model.LinearRegression().fit(x, y)\n",
    "            plt.plot(x, model.predict(x), color='red', linewidth=2.)\n",
    "            plt.scatter(y=y, x=x, color='blue', s=50, alpha=.5)\n",
    "            plt.title('Reta ajustada log-log')\n",
    "            plt.xlabel(indice[0])\n",
    "            plt.ylabel(indice[1])\n",
    "            plt.show()\n",
    "        else:\n",
    "            return df\n",
    "    else:\n",
    "        df = df[indice].dropna()\n",
    "        if disp:\n",
    "            y = df[indice[0]]\n",
    "            x = df[indice[1]]\n",
    "            plt.scatter(y=y, x=x, color='blue', s=50, alpha=.5)\n",
    "            plt.title('Gráfico de dispersao')\n",
    "            plt.xlabel(indice[0])\n",
    "            plt.ylabel(indice[1])\n",
    "            plt.show()\n",
    "        else:\n",
    "            return df\n",
    "        "
   ]
  },
  {
   "cell_type": "code",
   "execution_count": null,
   "metadata": {},
   "outputs": [],
   "source": []
  }
 ],
 "metadata": {
  "kernelspec": {
   "display_name": "Python 3",
   "language": "python",
   "name": "python3"
  },
  "language_info": {
   "codemirror_mode": {
    "name": "ipython",
    "version": 3
   },
   "file_extension": ".py",
   "mimetype": "text/x-python",
   "name": "python",
   "nbconvert_exporter": "python",
   "pygments_lexer": "ipython3",
   "version": "3.5.2"
  }
 },
 "nbformat": 4,
 "nbformat_minor": 2
}
