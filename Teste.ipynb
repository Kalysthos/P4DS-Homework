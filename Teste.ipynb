{
 "cells": [
  {
   "cell_type": "code",
   "execution_count": 1,
   "metadata": {
    "scrolled": true
   },
   "outputs": [],
   "source": [
    "from freedom import freedom\n",
    "from data import data\n",
    "from analyze import analyze\n",
    "import matplotlib.pyplot as plt\n",
    "import seaborn as sb\n",
    "import plotly as ply\n",
    "import geopandas as geo\n",
    "import pandas as pd\n",
    "import numpy as np"
   ]
  },
  {
   "cell_type": "code",
   "execution_count": 2,
   "metadata": {},
   "outputs": [
    {
     "data": {
      "text/html": [
       "<div>\n",
       "<style scoped>\n",
       "    .dataframe tbody tr th:only-of-type {\n",
       "        vertical-align: middle;\n",
       "    }\n",
       "\n",
       "    .dataframe tbody tr th {\n",
       "        vertical-align: top;\n",
       "    }\n",
       "\n",
       "    .dataframe thead th {\n",
       "        text-align: right;\n",
       "    }\n",
       "</style>\n",
       "<table border=\"1\" class=\"dataframe\">\n",
       "  <thead>\n",
       "    <tr style=\"text-align: right;\">\n",
       "      <th></th>\n",
       "      <th>GDP per capita (current US$)</th>\n",
       "      <th>GDP per capita growth (annual %)</th>\n",
       "      <th>Agriculture, forestry, and fishing, value added (% of GDP)</th>\n",
       "      <th>Food production index (2004-2006 = 100)</th>\n",
       "      <th>Arable land (hectares per person)</th>\n",
       "      <th>Surface area (sq. km)</th>\n",
       "      <th>Rural population (% of total population)</th>\n",
       "      <th>Access to electricity (% of population)</th>\n",
       "      <th>CO2 emissions (metric tons per capita)</th>\n",
       "      <th>Urban population</th>\n",
       "      <th>...</th>\n",
       "      <th>Lending interest rate (%)</th>\n",
       "      <th>Real interest rate (%)</th>\n",
       "      <th>Stocks traded, total value (% of GDP)</th>\n",
       "      <th>Listed domestic companies, total</th>\n",
       "      <th>Domestic credit to private sector (% of GDP)</th>\n",
       "      <th>Bank capital to assets ratio (%)</th>\n",
       "      <th>Official exchange rate (LCU per US$, period average)</th>\n",
       "      <th>Time required to start a business (days)</th>\n",
       "      <th>New businesses registered (number)</th>\n",
       "      <th>Total tax rate (% of commercial profits)</th>\n",
       "    </tr>\n",
       "  </thead>\n",
       "  <tbody>\n",
       "  </tbody>\n",
       "</table>\n",
       "<p>0 rows × 58 columns</p>\n",
       "</div>"
      ],
      "text/plain": [
       "Empty DataFrame\n",
       "Columns: [GDP per capita (current US$), GDP per capita growth (annual %), Agriculture, forestry, and fishing, value added (% of GDP), Food production index (2004-2006 = 100), Arable land (hectares per person), Surface area (sq. km), Rural population (% of total population), Access to electricity (% of population), CO2 emissions (metric tons per capita), Urban population, Population, total, Electric power consumption (kWh per capita), Population growth (annual %), Urban population (% of total), High-technology exports (current US$), Research and development expenditure (% of GDP), Merchandise trade (% of GDP), Ores and metals exports (% of merchandise exports), International tourism, expenditures (% of total imports), International tourism, receipts (% of total exports), Exports of goods and services (% of GDP), Merchandise exports (current US$), Imports of goods and services (% of GDP), Merchandise imports (current US$), Net barter terms of trade index (2000 = 100), Current account balance (BoP, current US$), Use of IMF credit (DOD, current US$), External debt stocks, total (DOD, current US$), Foreign direct investment, net inflows (BoP, current US$), IBRD loans and IDA credits (DOD, current US$), Total reserves (includes gold, current US$), Adjusted net savings, including particulate emission damage (% of GNI), Gross savings (% of GDP), Gross capital formation (% of GDP), Expense (% of GDP), Inflation, consumer prices (annual %), Inflation, GDP deflator (annual %), Government expenditure on education, total (% of GDP), Government expenditure per student, primary (% of GDP per capita), Government expenditure per student, secondary (% of GDP per capita), Government expenditure per student, tertiary (% of GDP per capita), Trained teachers in primary education (% of total teachers), Literacy rate, adult total (% of people ages 15 and above), Primary completion rate, total (% of relevant age group), Total natural resources rents (% of GDP), Unemployment, total (% of total labor force) (modeled ILO estimate), Market capitalization of listed domestic companies (current US$), Domestic credit provided by financial sector (% of GDP), Lending interest rate (%), Real interest rate (%), Stocks traded, total value (% of GDP), Listed domestic companies, total, Domestic credit to private sector (% of GDP), Bank capital to assets ratio (%), Official exchange rate (LCU per US$, period average), Time required to start a business (days), New businesses registered (number), Total tax rate (% of commercial profits)]\n",
       "Index: []\n",
       "\n",
       "[0 rows x 58 columns]"
      ]
     },
     "execution_count": 2,
     "metadata": {},
     "output_type": "execute_result"
    }
   ],
   "source": [
    "analyze(data, 2017)"
   ]
  },
  {
   "cell_type": "code",
   "execution_count": null,
   "metadata": {},
   "outputs": [],
   "source": [
    "analyze(data, \"GDP per capita (current US$)\")"
   ]
  },
  {
   "cell_type": "code",
   "execution_count": null,
   "metadata": {},
   "outputs": [],
   "source": [
    "df2 = freedom[[2017]].drop('Korea, Rep.', 0)"
   ]
  },
  {
   "cell_type": "code",
   "execution_count": null,
   "metadata": {},
   "outputs": [],
   "source": [
    "df1 = np.log10(df2.join(analyze(data, 2017,[\"GDP per capita (current US$)\"])))\n",
    "df1.columns = ['x', 'y']\n",
    "df1.plot('x', 'y', kind='scatter')\n",
    "plt.show()"
   ]
  },
  {
   "cell_type": "code",
   "execution_count": null,
   "metadata": {},
   "outputs": [],
   "source": [
    "def mmm(x=3,age=2017, ind=\"GDP per capita (current US$)\"):\n",
    "    df1 = analyze(data, age, [ind]).sort_values([ind])\n",
    "    lmd1 = int(len(df1)/2)-int(x/2)\n",
    "    df1.iloc[list(range(0,x))+list(range(lmd1, lmd1+x))+list(range(-x,0))].plot(kind=\"bar\")\n",
    "    plt.show()"
   ]
  },
  {
   "cell_type": "code",
   "execution_count": null,
   "metadata": {},
   "outputs": [],
   "source": [
    "mmm()"
   ]
  },
  {
   "cell_type": "code",
   "execution_count": null,
   "metadata": {},
   "outputs": [],
   "source": [
    "pd.DataFrame?"
   ]
  },
  {
   "cell_type": "code",
   "execution_count": null,
   "metadata": {},
   "outputs": [],
   "source": [
    "x = 2\n",
    "df1 = freedom[[2017]].drop('Korea, Rep.', 0).dropna().sort_values([2017])\n",
    "lmd1 = int(len(df1)/2)\n",
    "df1.iloc[list(range(0,x))+list(range(lmd1-int(x/2), lmd1+1+int(x/2)))+list(range(-x,0))].plot(kind=\"bar\")\n",
    "plt.show()"
   ]
  },
  {
   "cell_type": "code",
   "execution_count": null,
   "metadata": {},
   "outputs": [],
   "source": [
    "df1 = analyze(data, 2017, [\"GDP per capita (current US$)\"])\n",
    "df1.groupby([\"GDP per capita (current US$)\", pd.cut(df1.distances, 2)]).value.mean()\n",
    "\n"
   ]
  },
  {
   "cell_type": "code",
   "execution_count": null,
   "metadata": {},
   "outputs": [],
   "source": [
    "def analyze(data, ageorcountryorind, indice=False, rm=True, log=False, disp=False):\n",
    "    import pandas as pd\n",
    "    import numpy as np\n",
    "    import matplotlib.pyplot as plt\n",
    "    from sklearn import linear_model\n",
    "    countries = [i.replace(\"\\n\", \"\") for i in open(\"countries.txt\")]\n",
    "    \n",
    "    if type(ageorcountryorind) == int:\n",
    "        country = pd.DataFrame(data[0][str(ageorcountryorind)], columns=[data[0]['Indicator Name'][0]])\n",
    "        for k,i in enumerate(data[1:]):\n",
    "            country = country.join(pd.Series(i[str(ageorcountryorind)], name=data[k+1][\"Indicator Name\"][0]), how=\"outer\")\n",
    "        df = country.reindex(countries) if rm else country\n",
    "    \n",
    "    elif ageorcountryorind[0:2] == \"c-\":\n",
    "        ages = pd.DataFrame(data[0].T[ageorcountryorind[2:]][4:], columns=[data[0][\"Indicator Name\"][0]])\n",
    "        for k,i in enumerate(data[1:]):\n",
    "            ages = ages.join(pd.Series(i.T[ageorcountryorind[2:]][4:], name=data[k+1][\"Indicator Name\"][0]), how=\"outer\")\n",
    "        df = ages\n",
    "        \n",
    "    else:\n",
    "        for i in data:\n",
    "            if i['Indicator Name'][0] == ageorcountryorind:\n",
    "                saida = i.drop(\"Indicator Name\", axis=1)\n",
    "                break\n",
    "        df = saida.reindex(countries) if rm else saida\n",
    "\n",
    "    if indice==False:\n",
    "        return df.dropna(how='all')\n",
    "    elif log:\n",
    "        df = np.log(df[indice].dropna()) \n",
    "        if disp:\n",
    "            y = np.array(df[indice[0]]).reshape(-1, 1)\n",
    "            x = np.array(df[indice[1]]).reshape(-1, 1)\n",
    "            model = linear_model.LinearRegression().fit(x, y)\n",
    "            plt.plot(x, model.predict(x), color='red', linewidth=2.)\n",
    "            plt.scatter(y=y, x=x, color='blue', s=50, alpha=.5)\n",
    "            plt.title('Reta ajustada log-log')\n",
    "            plt.xlabel(indice[0])\n",
    "            plt.ylabel(indice[1])\n",
    "            plt.show()\n",
    "        else:\n",
    "            return df\n",
    "    else:\n",
    "        df = df[indice].dropna()\n",
    "        if disp:\n",
    "            y = df[indice[0]]\n",
    "            x = df[indice[1]]\n",
    "            plt.scatter(y=y, x=x, color='blue', s=50, alpha=.5)\n",
    "            plt.title('Gráfico de dispersao')\n",
    "            plt.xlabel(indice[0])\n",
    "            plt.ylabel(indice[1])\n",
    "            plt.show()\n",
    "        else:\n",
    "            return df\n",
    "        "
   ]
  },
  {
   "cell_type": "code",
   "execution_count": null,
   "metadata": {},
   "outputs": [],
   "source": []
  }
 ],
 "metadata": {
  "kernelspec": {
   "display_name": "Python 3",
   "language": "python",
   "name": "python3"
  },
  "language_info": {
   "codemirror_mode": {
    "name": "ipython",
    "version": 3
   },
   "file_extension": ".py",
   "mimetype": "text/x-python",
   "name": "python",
   "nbconvert_exporter": "python",
   "pygments_lexer": "ipython3",
   "version": "3.5.2"
  }
 },
 "nbformat": 4,
 "nbformat_minor": 2
}
