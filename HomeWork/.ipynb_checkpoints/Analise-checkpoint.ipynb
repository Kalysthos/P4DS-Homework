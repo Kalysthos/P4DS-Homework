{
 "cells": [
  {
   "cell_type": "code",
   "execution_count": null,
   "metadata": {},
   "outputs": [],
   "source": [
    "import pandas as pd\n",
    "import numpy as np\n",
    "import indic"
   ]
  },
  {
   "cell_type": "code",
   "execution_count": null,
   "metadata": {},
   "outputs": [],
   "source": [
    "ind = indic.indices.split()\n",
    "lista, k = [None]*len(ind), 0\n",
    "for i in ind:\n",
    "    lista[k] = pd.read_excel(i, sheet_name='Data', header=3)\n",
    "    k+=1\n",
    "lista[4]"
   ]
  },
  {
   "cell_type": "code",
   "execution_count": null,
   "metadata": {
    "scrolled": false
   },
   "outputs": [],
   "source": [
    "data,k,indices = pd.DataFrame(lista[0]['Country Name']),0, ['Country']\n",
    "a = input(\"Ano\")\n",
    "for i in lista:\n",
    "    indices += [ind[k].replace(\"_\",\" \").replace(\".xls\",\"\")]\n",
    "    data = data.join(i[a])\n",
    "    data.columns = indices\n",
    "    k+=1\n",
    "data"
   ]
  },
  {
   "cell_type": "code",
   "execution_count": null,
   "metadata": {},
   "outputs": [],
   "source": [
    "print(indic.indices.replace(\"_\", \" \").replace(\".xls\",\"\"))"
   ]
  }
 ],
 "metadata": {
  "kernelspec": {
   "display_name": "Python 3",
   "language": "python",
   "name": "python3"
  },
  "language_info": {
   "codemirror_mode": {
    "name": "ipython",
    "version": 3
   },
   "file_extension": ".py",
   "mimetype": "text/x-python",
   "name": "python",
   "nbconvert_exporter": "python",
   "pygments_lexer": "ipython3",
   "version": "3.5.2"
  }
 },
 "nbformat": 4,
 "nbformat_minor": 2
}
