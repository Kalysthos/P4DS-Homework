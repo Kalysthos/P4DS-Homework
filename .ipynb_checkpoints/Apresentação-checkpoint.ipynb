{
 "cells": [
  {
   "cell_type": "markdown",
   "metadata": {},
   "source": [
    "#### Módulos externos que serão usados:"
   ]
  },
  {
   "cell_type": "code",
   "execution_count": 1,
   "metadata": {},
   "outputs": [],
   "source": [
    "import pandas as pd\n",
    "import numpy as np\n",
    "from sklearn import linear_model, preprocessing, metrics\n",
    "import matplotlib.pyplot as plt"
   ]
  },
  {
   "cell_type": "markdown",
   "metadata": {},
   "source": [
    "#### Lista de DataFrames dos indices após o download:"
   ]
  },
  {
   "cell_type": "code",
   "execution_count": null,
   "metadata": {},
   "outputs": [],
   "source": [
    "from data import data"
   ]
  },
  {
   "cell_type": "markdown",
   "metadata": {},
   "source": [
    "#### Modulos internos que  serão usadas:"
   ]
  },
  {
   "cell_type": "code",
   "execution_count": null,
   "metadata": {},
   "outputs": [],
   "source": [
    "from analyze import analyze\n",
    "from plots import scatter, trend, lmh, trend_years, comparison_filter"
   ]
  },
  {
   "cell_type": "markdown",
   "metadata": {},
   "source": [
    "#### Apresentação do analyze para obter o DataFrame por ano, indice ou pais, respectivamente:"
   ]
  },
  {
   "cell_type": "code",
   "execution_count": null,
   "metadata": {
    "scrolled": true
   },
   "outputs": [],
   "source": [
    "analyze(data, 2017)"
   ]
  },
  {
   "cell_type": "code",
   "execution_count": null,
   "metadata": {},
   "outputs": [],
   "source": [
    "analyze(data, \"Economic freedom\")"
   ]
  },
  {
   "cell_type": "code",
   "execution_count": null,
   "metadata": {
    "scrolled": true
   },
   "outputs": [],
   "source": [
    "analyze(data, \"c-World\")"
   ]
  },
  {
   "cell_type": "markdown",
   "metadata": {},
   "source": [
    "#### Gerarndo o gráfico de dispersão e a linha de tendencia do log dos indices em determinado ano:"
   ]
  },
  {
   "cell_type": "code",
   "execution_count": null,
   "metadata": {
    "scrolled": true
   },
   "outputs": [],
   "source": [
    "scatter(data, 2017, ['GDP per capita growth (annual %)', 'GDP per capita (current US$)'])"
   ]
  },
  {
   "cell_type": "markdown",
   "metadata": {},
   "source": [
    "#### Gráfico de barras de um indice em determinado ano dos paises com x menores, medianos e maiores valores:"
   ]
  },
  {
   "cell_type": "code",
   "execution_count": null,
   "metadata": {
    "scrolled": false
   },
   "outputs": [],
   "source": [
    "lmh(data, 2017, 'Economic freedom', 3)"
   ]
  },
  {
   "cell_type": "markdown",
   "metadata": {},
   "source": [
    "#### Gerarndo os gráficos de tendencia dos paises dados em determinado indice e período de tempo:"
   ]
  },
  {
   "cell_type": "code",
   "execution_count": null,
   "metadata": {
    "scrolled": true
   },
   "outputs": [],
   "source": [
    "trend(data, [\"World\", \"Brazil\", \"Mexico\"], 'Economic freedom', [1990, 2017])"
   ]
  },
  {
   "cell_type": "markdown",
   "metadata": {},
   "source": [
    "#### Gráficos de tendencia com valores normalizados de um país e período de tempo para um indice com linha de tendencia ou múltiplos indices:"
   ]
  },
  {
   "cell_type": "code",
   "execution_count": null,
   "metadata": {
    "scrolled": false
   },
   "outputs": [],
   "source": [
    "trend_years(data, \"World\", 'Economic freedom', [2000, 2017])\n",
    "trend_years(data, \"World\", ['Economic freedom', 'GDP per capita (current US$)'], [2000, 2017]) "
   ]
  },
  {
   "cell_type": "markdown",
   "metadata": {},
   "source": [
    "#### Encontrando os indices com fortes relações em critérios definidos:  "
   ]
  },
  {
   "cell_type": "code",
   "execution_count": null,
   "metadata": {
    "scrolled": true
   },
   "outputs": [],
   "source": [
    "comparison_filter(data, year=2014, years=[2000,2014], country=\"World\", index='GDP per capita (current US$)', r2=0.45, coef=0.05, num=20)"
   ]
  },
  {
   "cell_type": "code",
   "execution_count": null,
   "metadata": {},
   "outputs": [],
   "source": [
    "from sklearn import linear_model\n",
    "import numpy as np"
   ]
  },
  {
   "cell_type": "code",
   "execution_count": null,
   "metadata": {},
   "outputs": [],
   "source": [
    "a = np.linspace(1,4,25)\n",
    "b = np.array([x**(2) + np.random.randint(1,2) for x in a])"
   ]
  },
  {
   "cell_type": "code",
   "execution_count": null,
   "metadata": {},
   "outputs": [],
   "source": [
    "x = a.reshape(-1, 1)#df[:,0].reshape(-1, 1)\n",
    "y = b.reshape(-1, 1)#df[:,1].reshape(-1, 1)\n",
    "x = [(x, \"x\"), (np.log(x), \"log(x)\")] if x.min() > 0 else [(x, \"x\")]\n",
    "y = [(y, \"y\"), (np.log(y), \"log(x)\")] if y.min() > 0 else [(y, \"y\")]\n",
    "valor = [\"\", \"\", 0, None]\n",
    "for i in x:\n",
    "    for k in y:\n",
    "        model = linear_model.LinearRegression().fit(i[0], k[0])\n",
    "        r2 = model.score(i[0], k[0])\n",
    "        if r2 > valor[2]:\n",
    "            valor = [i[1],k[1], r2, model]"
   ]
  },
  {
   "cell_type": "code",
   "execution_count": null,
   "metadata": {},
   "outputs": [],
   "source": [
    "valor"
   ]
  },
  {
   "cell_type": "code",
   "execution_count": null,
   "metadata": {},
   "outputs": [],
   "source": []
  }
 ],
 "metadata": {
  "kernelspec": {
   "display_name": "Python 3",
   "language": "python",
   "name": "python3"
  },
  "language_info": {
   "codemirror_mode": {
    "name": "ipython",
    "version": 3
   },
   "file_extension": ".py",
   "mimetype": "text/x-python",
   "name": "python",
   "nbconvert_exporter": "python",
   "pygments_lexer": "ipython3",
   "version": "3.5.2"
  }
 },
 "nbformat": 4,
 "nbformat_minor": 2
}
