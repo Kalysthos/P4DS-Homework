{
 "cells": [
  {
   "cell_type": "code",
   "execution_count": null,
   "metadata": {},
   "outputs": [],
   "source": [
    "from data import data\n",
    "import pandas as pd\n",
    "import numpy as np\n",
    "from analyze import analyze\n",
    "from plots import scatter, trend, lmh, trend_years, comparison_filter\n",
    "from sklearn import linear_model, preprocessing\n",
    "import matplotlib.pyplot as plt\n",
    "from Freedom.freedom import freedom"
   ]
  },
  {
   "cell_type": "code",
   "execution_count": null,
   "metadata": {
    "scrolled": true
   },
   "outputs": [],
   "source": [
    "analyze(data, 2017)"
   ]
  },
  {
   "cell_type": "code",
   "execution_count": null,
   "metadata": {},
   "outputs": [],
   "source": [
    "scatter(data, 2017, ['GDP per capita (current US$)', 'Population, total'])"
   ]
  },
  {
   "cell_type": "code",
   "execution_count": null,
   "metadata": {},
   "outputs": [],
   "source": [
    "trend(data, [\"World\", \"Brazil\", \"Mexico\"], 'GDP per capita (current US$)', [1963, 2017])"
   ]
  },
  {
   "cell_type": "code",
   "execution_count": null,
   "metadata": {},
   "outputs": [],
   "source": [
    "lmh(data, 2017, 'Bank capital to assets ratio (%)', 2)"
   ]
  },
  {
   "cell_type": "code",
   "execution_count": null,
   "metadata": {
    "scrolled": true
   },
   "outputs": [],
   "source": [
    "trend_years(data, \"Brazil\", 'Population, total', [2000, 2005], True)"
   ]
  },
  {
   "cell_type": "code",
   "execution_count": null,
   "metadata": {},
   "outputs": [],
   "source": [
    "trend_years(data, \"Brazil\", ['GDP per capita (current US$)', 'Population, total'], [2000, 2005], True)"
   ]
  },
  {
   "cell_type": "code",
   "execution_count": null,
   "metadata": {
    "scrolled": false
   },
   "outputs": [],
   "source": [
    "comparison_filter(data)"
   ]
  },
  {
   "cell_type": "code",
   "execution_count": null,
   "metadata": {},
   "outputs": [],
   "source": [
    "freedom"
   ]
  },
  {
   "cell_type": "code",
   "execution_count": null,
   "metadata": {},
   "outputs": [],
   "source": [
    "df = pd.DataFrame(freedom.median(1), columns=[\"Sum\"]).sort_values(\"Sum\")\n",
    "df"
   ]
  },
  {
   "cell_type": "code",
   "execution_count": null,
   "metadata": {},
   "outputs": [],
   "source": [
    "def lmhf(data, freedom, x):    \n",
    "    df = pd.DataFrame(freedom.median(1), columns=[\"Sum\"]).sort_values(\"Sum\")\n",
    "    amount = int(len(df)/2)-int(x/2)\n",
    "    df.iloc[list(range(0,x))+list(range(amount, amount+x))+list(range(-x,0))].plot(kind=\"bar\")\n",
    "    plt.title('Bar plot')\n",
    "    plt.xlabel('Country')\n",
    "    plt.\n",
    "    plt.show()"
   ]
  },
  {
   "cell_type": "code",
   "execution_count": null,
   "metadata": {},
   "outputs": [],
   "source": [
    "lmhf(freedom, 2)"
   ]
  },
  {
   "cell_type": "code",
   "execution_count": null,
   "metadata": {},
   "outputs": [],
   "source": [
    "x = 2\n",
    "amount = int(len(df)/2)-int(x/2)\n",
    "df2 = df.iloc[list(range(0,x))+list(range(amount, amount+x))+list(range(-x,0))]"
   ]
  },
  {
   "cell_type": "code",
   "execution_count": null,
   "metadata": {},
   "outputs": [],
   "source": [
    "df2.join(analyze(data,2017)[\"GDP per capita (current US$)\"]).plot(kind='bar')"
   ]
  },
  {
   "cell_type": "code",
   "execution_count": null,
   "metadata": {},
   "outputs": [],
   "source": [
    "x = 4\n",
    "df1 = pd.DataFrame(freedom.median(1).drop([\"Korea, Rep.\", \"Cuba\", \"Venezuela, RB\"], 0), columns=[\"freedom\"]).dropna().sort_values(\"freedom\")\n",
    "df2 = pd.DataFrame(analyze(data,2017)[\"GDP per capita (current US$)\"]).dropna()\n",
    "df1 = pd.DataFrame(preprocessing.MinMaxScaler().fit_transform(np.array(df1.values, dtype=\"float64\").reshape(-1, 1)), index=df1.index, columns=[\"Freedom\"])\n",
    "df2 = pd.DataFrame(preprocessing.MinMaxScaler().fit_transform(np.array(df2.values, dtype=\"float64\").reshape(-1, 1)), index=df2.index, columns=[\"GDP\"])\n",
    "df, amount = df1.join(df2).dropna(), int(len(df)/2)-int(x/2)\n",
    "df = df.iloc[list(range(0,x))+list(range(amount, amount+x))+list(range(-x,0))].plot(kind=\"bar\")\n",
    "plt.show()"
   ]
  },
  {
   "cell_type": "code",
   "execution_count": null,
   "metadata": {},
   "outputs": [],
   "source": [
    "df1 = pd.DataFrame(freedom.median(1).drop([\"Korea, Rep.\", \"Cuba\", \"Venezuela, RB\"], 0), columns=[\"freedom\"]).dropna()\n",
    "df2 = pd.DataFrame(analyze(data,2017)[\"GDP per capita (current US$)\"]).dropna()\n",
    "df = np.log(np.array(df1.join(df2).dropna()))\n",
    "y = df[:,0].reshape(-1, 1)\n",
    "x = df[:,1].reshape(-1, 1)\n",
    "model = linear_model.LinearRegression().fit(x, y)\n",
    "plt.plot(x, model.predict(x), color='red', linewidth=2.)\n",
    "plt.scatter(y=y, x=x, color='blue', s=50, alpha=.5)\n",
    "plt.legend([\"R**2 = {:0.4}, coef = {:0.4}\".format(model.score(x, y), model.coef_[0][0])])\n",
    "plt.title('Tendency line log-log')\n",
    "plt.xlabel(\"Freedom\")\n",
    "plt.ylabel(\"GDP\")\n",
    "plt.show()"
   ]
  },
  {
   "cell_type": "code",
   "execution_count": null,
   "metadata": {},
   "outputs": [],
   "source": [
    "df1.join(df2).dropna()"
   ]
  },
  {
   "cell_type": "code",
   "execution_count": null,
   "metadata": {},
   "outputs": [],
   "source": []
  }
 ],
 "metadata": {
  "kernelspec": {
   "display_name": "Python 3",
   "language": "python",
   "name": "python3"
  },
  "language_info": {
   "codemirror_mode": {
    "name": "ipython",
    "version": 3
   },
   "file_extension": ".py",
   "mimetype": "text/x-python",
   "name": "python",
   "nbconvert_exporter": "python",
   "pygments_lexer": "ipython3",
   "version": "3.5.2"
  }
 },
 "nbformat": 4,
 "nbformat_minor": 2
}
