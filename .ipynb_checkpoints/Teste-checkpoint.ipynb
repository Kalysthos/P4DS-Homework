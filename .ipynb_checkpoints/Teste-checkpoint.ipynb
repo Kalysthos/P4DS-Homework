{
 "cells": [
  {
   "cell_type": "code",
   "execution_count": null,
   "metadata": {
    "scrolled": true
   },
   "outputs": [],
   "source": [
    "from data import data\n",
    "import pandas as pd\n",
    "from analyze import analyze\n",
    "from plots import scatter\n",
    "from collections import defaultdict"
   ]
  },
  {
   "cell_type": "code",
   "execution_count": null,
   "metadata": {},
   "outputs": [],
   "source": [
    "years = analyze(data, \"c-World\").index\n",
    "indices = analyze(data, 2017).drop(\"GDP per capita (current US$)\", 1).columns\n",
    "looop = []\n",
    "for ind in indices:\n",
    "    for i in years:\n",
    "        for k in years:\n",
    "            looop.append((ind, int(i), int(k)))\n",
    "saida = defaultdict(list)\n",
    "formato = [(\"Ano do indice\", \"Ano do GDP per capita\"), (\"r**2\", \"Coeficente\", \"Número de paises da análise\")]\n",
    "anos = []\n",
    "for i in years:\n",
    "    for k in years:\n",
    "        anos.append((int(i),int(k)))"
   ]
  },
  {
   "cell_type": "code",
   "execution_count": null,
   "metadata": {},
   "outputs": [],
   "source": [
    "# Metodo 1, informacoes \n",
    "saida = defaultdict(list)\n",
    "for indice, i, k in looop[-5:]:\n",
    "    try:\n",
    "        ind = scatter(data, [i, k], [\"GDP per capita (current US$)\", indice], False)\n",
    "        if ind[0] >= 0.5 and ind[2] >= 50:\n",
    "            saida[indice].append(((k, i), ind))\n",
    "    except:\n",
    "        pass"
   ]
  },
  {
   "cell_type": "code",
   "execution_count": null,
   "metadata": {},
   "outputs": [],
   "source": [
    "# Metodo 2, filtrar paises\n",
    "classificados = []\n",
    "for indice in indices[-2:]:\n",
    "    for i, k in anos[-5:]:\n",
    "        try:\n",
    "            ind = scatter(data, [i, k], [\"GDP per capita (current US$)\", indice], False)\n",
    "            if ind[0] >= 0.5 and ind[2] >= 55:\n",
    "                classificados.append(indice) \n",
    "                break\n",
    "        except:\n",
    "            pass"
   ]
  }
 ],
 "metadata": {
  "kernelspec": {
   "display_name": "Python 3",
   "language": "python",
   "name": "python3"
  },
  "language_info": {
   "codemirror_mode": {
    "name": "ipython",
    "version": 3
   },
   "file_extension": ".py",
   "mimetype": "text/x-python",
   "name": "python",
   "nbconvert_exporter": "python",
   "pygments_lexer": "ipython3",
   "version": "3.5.2"
  }
 },
 "nbformat": 4,
 "nbformat_minor": 2
}
