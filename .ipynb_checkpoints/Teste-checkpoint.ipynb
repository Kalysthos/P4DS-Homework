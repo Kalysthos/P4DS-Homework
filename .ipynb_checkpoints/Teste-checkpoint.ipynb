{
 "cells": [
  {
   "cell_type": "code",
   "execution_count": null,
   "metadata": {},
   "outputs": [],
   "source": [
    "from data import data\n",
    "import pandas as pd\n",
    "import numpy as np\n",
    "from analyze import analyze\n",
    "from plots import scatter, trend, lmh, trend_scatter\n",
    "from sklearn import linear_model, preprocessing\n",
    "import matplotlib.pyplot as plt\n",
    "from Freedom.freedom import freedom"
   ]
  },
  {
   "cell_type": "code",
   "execution_count": null,
   "metadata": {
    "scrolled": true
   },
   "outputs": [],
   "source": [
    "analyze(data, 2017)"
   ]
  },
  {
   "cell_type": "code",
   "execution_count": null,
   "metadata": {},
   "outputs": [],
   "source": [
    "scatter(data, 2017, 'GDP per capita (current US$)',  'Population, total')"
   ]
  },
  {
   "cell_type": "code",
   "execution_count": null,
   "metadata": {},
   "outputs": [],
   "source": [
    "trend(data, [\"World\", \"Brazil\", \"Mexico\"], 'GDP per capita (current US$)', 1963, 2017)"
   ]
  },
  {
   "cell_type": "code",
   "execution_count": null,
   "metadata": {},
   "outputs": [],
   "source": [
    "lmh(data, 2017, 'GDP per capita (current US$)', 2)"
   ]
  },
  {
   "cell_type": "code",
   "execution_count": null,
   "metadata": {},
   "outputs": [],
   "source": [
    "trend_scatter(data, \"Brazil\", 'Population, total', 2000, 2005, True)"
   ]
  },
  {
   "cell_type": "code",
   "execution_count": null,
   "metadata": {
    "scrolled": false
   },
   "outputs": [],
   "source": [
    "gdp = trend_scatter(data, \"World\", 'GDP per capita (current US$)', 2008, 2014, False)\n",
    "for i in analyze(data, 2014).columns[1:].drop([\"Net barter terms of trade index (2000 = 100)\", \"New businesses registered (number)\",\"Official exchange rate (LCU per US$, period average)\",\"Current account balance (BoP, current US$)\", \"Real interest rate (%)\",\"Lending interest rate (%)\",\"Total reserves (includes gold, current US$)\",\"IBRD loans and IDA credits (DOD, current US$)\",\"External debt stocks, total (DOD, current US$)\",\"Use of IMF credit (DOD, current US$)\"]):\n",
    "    isc = scatter(data, 2014, 'GDP per capita (current US$)',  i, False)\n",
    "    itr = trend_scatter(data, \"World\", i, 2008, 2014, False)\n",
    "    if isc[0] > 0.4 and abs(itr[1]-gdp[1]) < 0.1 and isc[2] > 9:\n",
    "        scatter(data, 2014, 'GDP per capita (current US$)', i)\n",
    "        trend_scatter(data, \"World\", i, 2008, 2014)"
   ]
  },
  {
   "cell_type": "code",
   "execution_count": null,
   "metadata": {},
   "outputs": [],
   "source": []
  }
 ],
 "metadata": {
  "kernelspec": {
   "display_name": "Python 3",
   "language": "python",
   "name": "python3"
  },
  "language_info": {
   "codemirror_mode": {
    "name": "ipython",
    "version": 3
   },
   "file_extension": ".py",
   "mimetype": "text/x-python",
   "name": "python",
   "nbconvert_exporter": "python",
   "pygments_lexer": "ipython3",
   "version": "3.5.2"
  }
 },
 "nbformat": 4,
 "nbformat_minor": 2
}
