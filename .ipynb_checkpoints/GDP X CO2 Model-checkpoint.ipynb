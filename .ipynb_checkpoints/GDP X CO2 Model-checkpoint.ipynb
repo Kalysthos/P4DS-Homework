{
 "cells": [
  {
   "cell_type": "code",
   "execution_count": 1,
   "metadata": {},
   "outputs": [],
   "source": [
    "from searching_data import data_search\n",
    "from clean_data import clean_tb\n",
    "import numpy as np\n",
    "import pandas as pd\n",
    "from sklearn.preprocessing import MinMaxScaler\n",
    "import plotly\n",
    "plotly.tools.set_credentials_file(username='Felvc027', api_key='j63ixa5dFTZ9Crf97maA')\n",
    "import matplotlib.pyplot as plt"
   ]
  },
  {
   "cell_type": "code",
   "execution_count": 2,
   "metadata": {},
   "outputs": [],
   "source": [
    "import data as d"
   ]
  },
  {
   "cell_type": "code",
   "execution_count": 3,
   "metadata": {},
   "outputs": [],
   "source": [
    "norm = lambda df: MinMaxScaler().fit_transform(np.array(df, dtype=\"float64\").reshape(-1, 1))"
   ]
  },
  {
   "cell_type": "markdown",
   "metadata": {},
   "source": [
    "Filtrando índices e países que contém dados dos últimos 17 anos "
   ]
  },
  {
   "cell_type": "code",
   "execution_count": 4,
   "metadata": {},
   "outputs": [
    {
     "ename": "AttributeError",
     "evalue": "'NoneType' object has no attribute 'dropna'",
     "output_type": "error",
     "traceback": [
      "\u001b[0;31m---------------------------------------------------------------------------\u001b[0m",
      "\u001b[0;31mAttributeError\u001b[0m                            Traceback (most recent call last)",
      "\u001b[0;32m<ipython-input-4-8c87ed81617b>\u001b[0m in \u001b[0;36m<module>\u001b[0;34m()\u001b[0m\n\u001b[0;32m----> 1\u001b[0;31m \u001b[0mtbs\u001b[0m \u001b[0;34m=\u001b[0m \u001b[0;34m[\u001b[0m\u001b[0mclean_tb\u001b[0m\u001b[0;34m(\u001b[0m\u001b[0mdf\u001b[0m\u001b[0;34m,\u001b[0m\u001b[0;36m17\u001b[0m\u001b[0;34m,\u001b[0m\u001b[0;34m'lasts'\u001b[0m\u001b[0;34m)\u001b[0m \u001b[0;32mfor\u001b[0m \u001b[0mdf\u001b[0m \u001b[0;32min\u001b[0m \u001b[0md\u001b[0m\u001b[0;34m.\u001b[0m\u001b[0mdata\u001b[0m \u001b[0;32mif\u001b[0m \u001b[0mlen\u001b[0m\u001b[0;34m(\u001b[0m\u001b[0mclean_tb\u001b[0m\u001b[0;34m(\u001b[0m\u001b[0mdf\u001b[0m\u001b[0;34m,\u001b[0m\u001b[0;36m17\u001b[0m\u001b[0;34m,\u001b[0m\u001b[0;34m'lasts'\u001b[0m\u001b[0;34m)\u001b[0m\u001b[0;34m.\u001b[0m\u001b[0mindex\u001b[0m\u001b[0;34m)\u001b[0m \u001b[0;34m>\u001b[0m \u001b[0;36m0\u001b[0m\u001b[0;34m]\u001b[0m\u001b[0;34m\u001b[0m\u001b[0m\n\u001b[0m",
      "\u001b[0;32m<ipython-input-4-8c87ed81617b>\u001b[0m in \u001b[0;36m<listcomp>\u001b[0;34m(.0)\u001b[0m\n\u001b[0;32m----> 1\u001b[0;31m \u001b[0mtbs\u001b[0m \u001b[0;34m=\u001b[0m \u001b[0;34m[\u001b[0m\u001b[0mclean_tb\u001b[0m\u001b[0;34m(\u001b[0m\u001b[0mdf\u001b[0m\u001b[0;34m,\u001b[0m\u001b[0;36m17\u001b[0m\u001b[0;34m,\u001b[0m\u001b[0;34m'lasts'\u001b[0m\u001b[0;34m)\u001b[0m \u001b[0;32mfor\u001b[0m \u001b[0mdf\u001b[0m \u001b[0;32min\u001b[0m \u001b[0md\u001b[0m\u001b[0;34m.\u001b[0m\u001b[0mdata\u001b[0m \u001b[0;32mif\u001b[0m \u001b[0mlen\u001b[0m\u001b[0;34m(\u001b[0m\u001b[0mclean_tb\u001b[0m\u001b[0;34m(\u001b[0m\u001b[0mdf\u001b[0m\u001b[0;34m,\u001b[0m\u001b[0;36m17\u001b[0m\u001b[0;34m,\u001b[0m\u001b[0;34m'lasts'\u001b[0m\u001b[0;34m)\u001b[0m\u001b[0;34m.\u001b[0m\u001b[0mindex\u001b[0m\u001b[0;34m)\u001b[0m \u001b[0;34m>\u001b[0m \u001b[0;36m0\u001b[0m\u001b[0;34m]\u001b[0m\u001b[0;34m\u001b[0m\u001b[0m\n\u001b[0m",
      "\u001b[0;32m~/P4DS_Homework/clean_data.py\u001b[0m in \u001b[0;36mclean_tb\u001b[0;34m(df, min_data, criteria)\u001b[0m\n\u001b[1;32m     40\u001b[0m         \u001b[0;32mreturn\u001b[0m \u001b[0mpd\u001b[0m\u001b[0;34m.\u001b[0m\u001b[0mSeries\u001b[0m\u001b[0;34m(\u001b[0m\u001b[0mmax_s\u001b[0m\u001b[0;34m,\u001b[0m\u001b[0mindex\u001b[0m\u001b[0;34m=\u001b[0m\u001b[0mdata\u001b[0m\u001b[0;34m.\u001b[0m\u001b[0mindex\u001b[0m\u001b[0;34m)\u001b[0m\u001b[0;34m\u001b[0m\u001b[0m\n\u001b[1;32m     41\u001b[0m \u001b[0;34m\u001b[0m\u001b[0m\n\u001b[0;32m---> 42\u001b[0;31m     \u001b[0mdf\u001b[0m \u001b[0;34m=\u001b[0m \u001b[0mdf\u001b[0m\u001b[0;34m.\u001b[0m\u001b[0mdropna\u001b[0m\u001b[0;34m(\u001b[0m\u001b[0maxis\u001b[0m \u001b[0;34m=\u001b[0m \u001b[0;36m1\u001b[0m\u001b[0;34m,\u001b[0m\u001b[0mhow\u001b[0m \u001b[0;34m=\u001b[0m \u001b[0;34m'all'\u001b[0m\u001b[0;34m)\u001b[0m\u001b[0;34m\u001b[0m\u001b[0m\n\u001b[0m\u001b[1;32m     43\u001b[0m     \u001b[0;32mif\u001b[0m \u001b[0mall\u001b[0m\u001b[0;34m(\u001b[0m\u001b[0;34m[\u001b[0m\u001b[0mtype\u001b[0m\u001b[0;34m(\u001b[0m\u001b[0mi\u001b[0m\u001b[0;34m)\u001b[0m\u001b[0;34m==\u001b[0m\u001b[0mstr\u001b[0m \u001b[0;32mfor\u001b[0m \u001b[0mi\u001b[0m \u001b[0;32min\u001b[0m \u001b[0mdf\u001b[0m\u001b[0;34m.\u001b[0m\u001b[0mcolumns\u001b[0m\u001b[0;34m]\u001b[0m\u001b[0;34m)\u001b[0m \u001b[0;34m==\u001b[0m \u001b[0;32mTrue\u001b[0m\u001b[0;34m:\u001b[0m\u001b[0;34m\u001b[0m\u001b[0m\n\u001b[1;32m     44\u001b[0m         \u001b[0mdf\u001b[0m\u001b[0;34m.\u001b[0m\u001b[0mcolumns\u001b[0m \u001b[0;34m=\u001b[0m \u001b[0;34m[\u001b[0m\u001b[0mint\u001b[0m\u001b[0;34m(\u001b[0m\u001b[0mi\u001b[0m\u001b[0;34m)\u001b[0m \u001b[0;32mif\u001b[0m \u001b[0mi\u001b[0m\u001b[0;34m.\u001b[0m\u001b[0misnumeric\u001b[0m\u001b[0;34m(\u001b[0m\u001b[0;34m)\u001b[0m \u001b[0;32melse\u001b[0m \u001b[0mi\u001b[0m \u001b[0;32mfor\u001b[0m \u001b[0mi\u001b[0m \u001b[0;32min\u001b[0m \u001b[0mdf\u001b[0m\u001b[0;34m.\u001b[0m\u001b[0mcolumns\u001b[0m\u001b[0;34m]\u001b[0m\u001b[0;34m\u001b[0m\u001b[0m\n",
      "\u001b[0;31mAttributeError\u001b[0m: 'NoneType' object has no attribute 'dropna'"
     ]
    }
   ],
   "source": [
    "tbs = [clean_tb(df,17,'lasts') for df in d.data if len(clean_tb(df,17,'lasts').index) > 0]"
   ]
  },
  {
   "cell_type": "markdown",
   "metadata": {},
   "source": [
    "Pegando dados da emissão de CO2 nos países "
   ]
  },
  {
   "cell_type": "code",
   "execution_count": null,
   "metadata": {},
   "outputs": [],
   "source": [
    "co2_emission=data_search(tbs,'index','CO2 emissions (metric tons per capita)').T[3:].dropna()"
   ]
  },
  {
   "cell_type": "markdown",
   "metadata": {},
   "source": [
    "Fazendo o mesmo para GDP:"
   ]
  },
  {
   "cell_type": "code",
   "execution_count": null,
   "metadata": {},
   "outputs": [],
   "source": [
    "gdp=data_search(tbs,'index','GDP per capita (current US$)').T[3:].dropna()"
   ]
  },
  {
   "cell_type": "markdown",
   "metadata": {},
   "source": [
    "Para treinar, vamos pegar os dados de CO2 de 2002 a 2013 e os dados de GDP per capita de 2001 a 2012. "
   ]
  },
  {
   "cell_type": "code",
   "execution_count": null,
   "metadata": {},
   "outputs": [],
   "source": [
    "co2_emission,gdp=co2_emission[4:-1],gdp[:-4]"
   ]
  },
  {
   "cell_type": "markdown",
   "metadata": {},
   "source": [
    "Normalizando as colunas:"
   ]
  },
  {
   "cell_type": "code",
   "execution_count": null,
   "metadata": {},
   "outputs": [],
   "source": [
    "for col in co2_emission.columns:\n",
    "    co2_emission[col] = norm(co2_emission[col])"
   ]
  },
  {
   "cell_type": "code",
   "execution_count": null,
   "metadata": {},
   "outputs": [],
   "source": [
    "for col in gdp.columns:\n",
    "    gdp[col]=norm(gdp[col])"
   ]
  },
  {
   "cell_type": "markdown",
   "metadata": {},
   "source": [
    "Vamos utilizar apenas os países que conteém os dois dados disponíveis "
   ]
  },
  {
   "cell_type": "code",
   "execution_count": null,
   "metadata": {},
   "outputs": [],
   "source": [
    "countries=[i for i in gdp.columns if i in co2_emission.columns]"
   ]
  },
  {
   "cell_type": "markdown",
   "metadata": {},
   "source": [
    "Vamos tentar aplicar um modelo do tipo Y(n) = a0 + Y(n-1) x a1 + CO2(n) x a2"
   ]
  },
  {
   "cell_type": "code",
   "execution_count": null,
   "metadata": {},
   "outputs": [],
   "source": [
    "parameters={}\n",
    "As = {}\n",
    "bs = {}\n",
    "for country in countries:\n",
    "    A = np.concatenate([co2_emission[country].values.reshape(-1,1).astype(float),\n",
    "                        gdp[country][:-1].values.reshape(-1,1).astype(float),np.ones([12,1]).astype(float)],axis=1)\n",
    "    b = gdp[country][1:].values.reshape(-1,1).astype(float)\n",
    "    parameters[country]=np.linalg.solve(np.dot(A.T,A),np.dot(A.T,b))\n",
    "    As[country]=A\n",
    "    bs[country]=b"
   ]
  },
  {
   "cell_type": "markdown",
   "metadata": {},
   "source": [
    "Vamos desnormalizar para comparar os resultados."
   ]
  },
  {
   "cell_type": "code",
   "execution_count": null,
   "metadata": {},
   "outputs": [],
   "source": [
    "real_gdp = data_search(tbs,'index','GDP per capita (current US$)').T[3:].dropna()\n",
    "maxis = dict(zip(countries,[real_gdp[i][:-4].max() for i in countries]))\n",
    "minis= dict(zip(countries,[real_gdp[i][:-4].min() for i in countries]))\n",
    "shots=[((np.dot(As[i],parameters[i])*(maxis[i]-minis[i]))+(minis[i])) for i in countries]"
   ]
  },
  {
   "cell_type": "markdown",
   "metadata": {},
   "source": [
    "Calculando os erros quadráticos"
   ]
  },
  {
   "cell_type": "code",
   "execution_count": null,
   "metadata": {},
   "outputs": [],
   "source": [
    "err = [sum((real_gdp[countries[i]][1:-4].values.reshape(-1,1)-shots[i])**2)/len(shots[i]) for i in range(len(countries))]"
   ]
  },
  {
   "cell_type": "markdown",
   "metadata": {},
   "source": [
    "No gráfico abaixo, temos algums comparações entre as saídas do modelo e os dados reais. Note que Para alguns países o modelo se adapta bem; para outros, como o Qatar, ele acaba tendo um outlier que custa caro no erro quadrático."
   ]
  },
  {
   "cell_type": "code",
   "execution_count": null,
   "metadata": {},
   "outputs": [],
   "source": [
    "k=countries.index('Qatar')\n",
    "plt.plot(real_gdp[countries[k]][1:-4],'bo',label='Real GDP')\n",
    "plt.plot(range(2002,2014),shots[k],'r-',label='Shot model')\n",
    "plt.legend()\n",
    "plt.xlabel('Years')\n",
    "plt.title('CO2 emissions x GDP per capita: '+countries[k])\n",
    "plt.ylabel('GDP per capita (current US$)')\n",
    "plt.text(2006,real_gdp[countries[k]][1:-4].min(),'Mean of square errors: {:.4f}'.format(err[k][0]))\n",
    "plt.show()"
   ]
  },
  {
   "cell_type": "markdown",
   "metadata": {},
   "source": [
    "Vamos usar o modelo para tentar estimar o GDP per capita de 2014 dos países usando os dados de Emissaão de CO2 do mesmo ano e o GDP per capita do ano anterior."
   ]
  },
  {
   "cell_type": "code",
   "execution_count": null,
   "metadata": {},
   "outputs": [],
   "source": [
    "shots2014=[]\n",
    "for i in countries:\n",
    "    min_tr=min(data_search(tbs,'index','CO2 emissions (metric tons per capita)').T[3:].dropna()[i][:-1])\n",
    "    max_tr=max(data_search(tbs,'index','CO2 emissions (metric tons per capita)').T[3:].dropna()[i][:-1])\n",
    "    co2_test=data_search(tbs,'index','CO2 emissions (metric tons per capita)').T[3:].dropna()[i][2014]\n",
    "    co2_test-=min_tr\n",
    "    co2_test/=(max_tr-min_tr)\n",
    "    \n",
    "    gdp_test=real_gdp[i][2013]\n",
    "    min_gdps=min(data_search(tbs,'index','GDP per capita (current US$)').T[3:].dropna()[i][:-5])\n",
    "    max_gdps=max(data_search(tbs,'index','GDP per capita (current US$)').T[3:].dropna()[i][:-5])\n",
    "    gdp_test-=min_gdps\n",
    "    gdp_test /= (max_gdps-min_gdps)\n",
    "    shot2014=np.dot(np.array([co2_test,gdp_test,1]),parameters[i].reshape(3,1))\n",
    "    shot2014 *= (max_gdps-min_gdps)\n",
    "    shot2014 += min_gdps\n",
    "    shots2014.append(shot2014)"
   ]
  },
  {
   "cell_type": "markdown",
   "metadata": {},
   "source": [
    "Pegando os dados reais:"
   ]
  },
  {
   "cell_type": "code",
   "execution_count": null,
   "metadata": {},
   "outputs": [],
   "source": [
    "gdp2014 = data_search(tbs,'index','GDP per capita (current US$)').T[3:].dropna()[countries][-4:-3].T"
   ]
  },
  {
   "cell_type": "markdown",
   "metadata": {},
   "source": [
    "Juntamos os dois numa tabela:"
   ]
  },
  {
   "cell_type": "code",
   "execution_count": null,
   "metadata": {},
   "outputs": [],
   "source": [
    "RealXModel = gdp2014.join(pd.DataFrame(shots2014,index=countries,columns=['Model Shot'])).sort_values('Model Shot')\n"
   ]
  },
  {
   "cell_type": "markdown",
   "metadata": {},
   "source": [
    "E finalmente fazemos o plot comparando os dados reais e os do Modelo:"
   ]
  },
  {
   "cell_type": "code",
   "execution_count": null,
   "metadata": {},
   "outputs": [],
   "source": [
    "import plotly.plotly as py\n",
    "import plotly.graph_objs as go\n",
    "\n",
    "Real_GDP = go.Scatter(\n",
    "    y = np.array(RealXModel[2014]), text = RealXModel.index,\n",
    "    mode = 'line',\n",
    "    line=dict(color = 'red', width = 2),\n",
    "    name='Real GDP'\n",
    "    \n",
    ")\n",
    "trace2 = go.Scatter(\n",
    "    y = np.array(RealXModel['Model Shot']), text = RealXModel.index,\n",
    "    mode = 'line',\n",
    "    line=dict(color = 'blue', width = 2),\n",
    "    name='Model Shot'\n",
    ")\n",
    "    \n",
    "layout = go.Layout(\n",
    "    title = 'Real GDP X Model Shot', \n",
    "    xaxis = dict(title = 'GDP'),\n",
    "    yaxis = dict(title = 'GDP per capita')\n",
    ")\n",
    "\n",
    "py.iplot(go.Figure(data= [Real_GDP, trace2], layout=layout))"
   ]
  }
 ],
 "metadata": {
  "kernelspec": {
   "display_name": "Python 3",
   "language": "python",
   "name": "python3"
  },
  "language_info": {
   "codemirror_mode": {
    "name": "ipython",
    "version": 3
   },
   "file_extension": ".py",
   "mimetype": "text/x-python",
   "name": "python",
   "nbconvert_exporter": "python",
   "pygments_lexer": "ipython3",
   "version": "3.5.2"
  }
 },
 "nbformat": 4,
 "nbformat_minor": 2
}
